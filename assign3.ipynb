{
 "cells": [
  {
   "cell_type": "code",
   "execution_count": 1,
   "metadata": {},
   "outputs": [
    {
     "name": "stdout",
     "output_type": "stream",
     "text": [
      "Enter a number:1\n",
      "1\n",
      "Enter a number:3\n",
      "4\n",
      "Enter a number:5\n",
      "9\n",
      "Enter a number:0\n",
      "9\n",
      "The sum value is 9\n"
     ]
    }
   ],
   "source": [
    "sum1 = 0\n",
    "i = 1\n",
    "while i==1 :\n",
    "    n = int(input('Enter a number:'))\n",
    "    sum1 = sum1 + n\n",
    "    print(sum1)\n",
    "    if n ==0 :\n",
    "        i=0\n",
    "print('The sum value is',sum1)"
   ]
  },
  {
   "cell_type": "markdown",
   "metadata": {},
   "source": [
    "Prime Number or not"
   ]
  },
  {
   "cell_type": "code",
   "execution_count": null,
   "metadata": {},
   "outputs": [],
   "source": [
    "num = int(input(\"Enter a number: \"))  \n",
    "  \n",
    "if num > 1:  \n",
    "    for i in range(2,num):  \n",
    "        if (num % i) == 0:  \n",
    "                          print(num,\"is not a prime number\")\n",
    "                          print(i,\"times\",num//i,\"is\",num)  \n",
    "                          break  \n",
    "                    else:   \n",
    "                         print(num, \"is a prime number\")  \n",
    "else:  \n",
    "     print(num,\"is not a prime number\")"
   ]
  },
  {
   "cell_type": "code",
   "execution_count": null,
   "metadata": {},
   "outputs": [],
   "source": []
  },
  {
   "cell_type": "code",
   "execution_count": null,
   "metadata": {},
   "outputs": [],
   "source": []
  },
  {
   "cell_type": "code",
   "execution_count": null,
   "metadata": {},
   "outputs": [],
   "source": []
  },
  {
   "cell_type": "code",
   "execution_count": null,
   "metadata": {},
   "outputs": [],
   "source": []
  }
 ],
 "metadata": {
  "kernelspec": {
   "display_name": "Python 3",
   "language": "python",
   "name": "python3"
  },
  "language_info": {
   "codemirror_mode": {
    "name": "ipython",
    "version": 3
   },
   "file_extension": ".py",
   "mimetype": "text/x-python",
   "name": "python",
   "nbconvert_exporter": "python",
   "pygments_lexer": "ipython3",
   "version": "3.7.6"
  }
 },
 "nbformat": 4,
 "nbformat_minor": 4
}
